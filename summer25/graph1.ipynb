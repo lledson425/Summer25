{
 "cells": [
  {
   "cell_type": "code",
   "execution_count": 8,
   "id": "3d43f189",
   "metadata": {},
   "outputs": [
    {
     "name": "stdout",
     "output_type": "stream",
     "text": [
      "^C\n"
     ]
    },
    {
     "name": "stdout",
     "output_type": "stream",
     "text": [
      "Requirement already satisfied: pandas in \\\\wsl.localhost\\ubuntu\\home\\ledson\\summer25\\.venv\\lib\\site-packages (2.3.0)\n",
      "Requirement already satisfied: numpy>=1.26.0 in \\\\wsl.localhost\\ubuntu\\home\\ledson\\summer25\\.venv\\lib\\site-packages (from pandas) (2.3.0)\n",
      "Requirement already satisfied: python-dateutil>=2.8.2 in \\\\wsl.localhost\\ubuntu\\home\\ledson\\summer25\\.venv\\lib\\site-packages (from pandas) (2.9.0.post0)\n",
      "Requirement already satisfied: pytz>=2020.1 in \\\\wsl.localhost\\ubuntu\\home\\ledson\\summer25\\.venv\\lib\\site-packages (from pandas) (2025.2)\n",
      "Requirement already satisfied: tzdata>=2022.7 in \\\\wsl.localhost\\ubuntu\\home\\ledson\\summer25\\.venv\\lib\\site-packages (from pandas) (2025.2)\n",
      "Requirement already satisfied: six>=1.5 in \\\\wsl.localhost\\ubuntu\\home\\ledson\\summer25\\.venv\\lib\\site-packages (from python-dateutil>=2.8.2->pandas) (1.17.0)\n"
     ]
    }
   ],
   "source": [
    "!pip install pandas"
   ]
  },
  {
   "cell_type": "code",
   "execution_count": 13,
   "id": "f8a0f5b6",
   "metadata": {},
   "outputs": [
    {
     "ename": "ModuleNotFoundError",
     "evalue": "No module named 'matplotlib'",
     "output_type": "error",
     "traceback": [
      "\u001b[31m---------------------------------------------------------------------------\u001b[39m",
      "\u001b[31mModuleNotFoundError\u001b[39m                       Traceback (most recent call last)",
      "\u001b[36mCell\u001b[39m\u001b[36m \u001b[39m\u001b[32mIn[13]\u001b[39m\u001b[32m, line 2\u001b[39m\n\u001b[32m      1\u001b[39m \u001b[38;5;28;01mimport\u001b[39;00m\u001b[38;5;250m \u001b[39m\u001b[34;01mpandas\u001b[39;00m\u001b[38;5;250m \u001b[39m\u001b[38;5;28;01mas\u001b[39;00m\u001b[38;5;250m \u001b[39m\u001b[34;01mpd\u001b[39;00m\n\u001b[32m----> \u001b[39m\u001b[32m2\u001b[39m \u001b[38;5;28;01mimport\u001b[39;00m\u001b[38;5;250m \u001b[39m\u001b[34;01mmatplotlib\u001b[39;00m\u001b[34;01m.\u001b[39;00m\u001b[34;01mpyplot\u001b[39;00m\u001b[38;5;250m \u001b[39m\u001b[38;5;28;01mas\u001b[39;00m\u001b[38;5;250m \u001b[39m\u001b[34;01mplt\u001b[39;00m\n\u001b[32m      3\u001b[39m \u001b[38;5;28;01mimport\u001b[39;00m\u001b[38;5;250m \u001b[39m\u001b[34;01mnumpy\u001b[39;00m\u001b[38;5;250m \u001b[39m\u001b[38;5;28;01mas\u001b[39;00m\u001b[38;5;250m \u001b[39m\u001b[34;01mnp\u001b[39;00m\n",
      "\u001b[31mModuleNotFoundError\u001b[39m: No module named 'matplotlib'"
     ]
    }
   ],
   "source": [
    "import pandas as pd\n",
    "import matplotlib.pyplot as plt\n",
    "import numpy as np"
   ]
  },
  {
   "cell_type": "code",
   "execution_count": null,
   "id": "cbe4d7d4",
   "metadata": {},
   "outputs": [],
   "source": [
    "# Load the file; skip commented lines starting with #\n",
    "df = pd.read_csv('bin_test1.txt', delim_whitespace=True, comment='#')\n",
    "\n",
    "# Group by temperature T\n",
    "grouped = df.groupby('T')\n",
    "\n",
    "# Compute mean and std dev of magSq for each temperature\n",
    "mean_magSq = grouped['magSq'].mean()\n",
    "std_magSq = grouped['magSq'].std()\n",
    "\n",
    "# Number of bins per temperature \n",
    "counts = grouped['magSq'].count()\n",
    "\n",
    "# Standard error = std / sqrt(count)\n",
    "stderr_magSq = std_magSq / np.sqrt(counts)"
   ]
  },
  {
   "cell_type": "code",
   "execution_count": null,
   "id": "0a9d8779",
   "metadata": {},
   "outputs": [],
   "source": [
    "plt.errorbar(mean_magSq.index, mean_magSq.values, yerr=stderr_magSq.values, fmt='o-', capsize=5)\n",
    "plt.xlabel('Temperature (T)')\n",
    "plt.ylabel('Average magSq')\n",
    "plt.title('Average magSq vs Temperature with Standard Error Bars')\n",
    "plt.grid(True)\n",
    "plt.show()"
   ]
  }
 ],
 "metadata": {
  "kernelspec": {
   "display_name": ".venv",
   "language": "python",
   "name": "python3"
  },
  "language_info": {
   "codemirror_mode": {
    "name": "ipython",
    "version": 3
   },
   "file_extension": ".py",
   "mimetype": "text/x-python",
   "name": "python",
   "nbconvert_exporter": "python",
   "pygments_lexer": "ipython3",
   "version": "3.12.2"
  }
 },
 "nbformat": 4,
 "nbformat_minor": 5
}
